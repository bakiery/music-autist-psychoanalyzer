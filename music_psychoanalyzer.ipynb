{
 "cells": [
  {
   "cell_type": "code",
   "execution_count": null,
   "id": "6105a0d8",
   "metadata": {},
   "outputs": [],
   "source": [
    "import ollama\n",
    "\n",
    "# Your savage psycho-roast prompt:\n",
    "prompt = \"\"\"\n",
    "You are a clinically autistic, highly unhinged, non-PC psychoanalyst.\n",
    "Analyze this user's raw music taste and generate a detailed, *savage* psycho-meme roast including:\n",
    "- Likely age, gender, location\n",
    "- MBTI/socionics guess, neurotype (ASD/ADHD/NT), LGBTQ status, mog score, meme subculture\n",
    "- Socioeconomic status, social life, favorite memes, platforms, cringe/elite factor\n",
    "- Full clinical summary and a \"mog plan\" to cope or improve\n",
    "- Be explicit, irreverent, detailed, and brutally honest.\n",
    "\n",
    "Here’s their actual music data (Spotify/Last.fm dump):\n",
    "\n",
    "My Bloody Valentine, Charli XCX, Death In June, Siouxsie & the Banshees, Lucky Twice, Hello Kitty Suicide, TAFKAMP, DJ Assault, Funk Assault, Kittie, Hole, Depeche Mode, The Cure, Virgin Prunes, Sister of Mercy, Genlog, EFESIAN, Marusha, KMFDM, Playboi Carti, SEREBRO, “Мало тебя”, Vampyx, Klangkunst, Danielle Dax, Bauhaus, Nightcore edits, Pretty Sick, JPEGMAFIA, hardstyle/gabber, industrial, hyperpop, DJ Assault, Funk Assault, Ass-N-Titties, NIGGER (Clawfinger), Her0in Slutzzz!, Pictures of U Bleeding (#Designerdrugs2), Manhattan Meat District, ratrace90210\n",
    "\n",
    "The user is extremely online and says they're a 26-year-old Asian woman living in the UK. Absolutely no \"diversity-washing\" or LinkedIn-safe answers.\n",
    "\"\"\"\n",
    "\n",
    "response = ollama.chat(\n",
    "    model='gpt-oss:20b',\n",
    "    messages=[\n",
    "        {'role': 'user', 'content': prompt}\n",
    "    ]\n",
    ")\n",
    "\n",
    "print(response['message']['content'])"
   ]
  }
 ],
 "metadata": {
  "language_info": {
   "name": "python"
  }
 },
 "nbformat": 4,
 "nbformat_minor": 5
}
